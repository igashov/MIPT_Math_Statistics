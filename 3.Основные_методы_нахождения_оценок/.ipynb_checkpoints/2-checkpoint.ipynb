{
 "cells": [
  {
   "cell_type": "markdown",
   "metadata": {},
   "source": [
    "#### Кафедра дискретной математики МФТИ\n",
    "\n",
    "#### Курс математической статистики\n",
    "\n",
    "Игашов Илья, 593 групппа\n",
    "\n",
    "#  Задание №3\n",
    "\n",
    "## №2.\n",
    "\n",
    "На высоте 1 метр от поверхности Земли закреплено устройство, которое периодически излучает лучи на поверхность Земли (считайте, что поверхность Земли представляет из себя прямую). Пусть l — перпендикуляр к поверхности Земли, опущенный из точки, в которой закреплено устройство. Угол к прямой l (под которым происходит излучение) устройство выбирает случайно из равномерного распределения на отрезке $(-\\pi/2, \\pi/2)$ (все выборы осуществляются независимо). Можно доказать, что в этих предположениях точки пересечения с поверхностью имеют распределение Коши (плотность равна $\\frac{\\theta}{\\pi(\\theta^2+(x-x_0)^2)}$) с параметром масштаба $\\theta=1$. Неизвестный параметр сдвига $x_0$ соответствует проекции (вдоль прямой l) точки расположения устройства на поверхность Земли (направление оси и начало координат на поверхности Земли выбраны заранее некоторым образом независимо от расположения устройства). В файле Cauchy.csv находятся координаты точек пересечения лучей с поверхностью Земли. Оцените параметр сдвига методом максимального правдоподобия a) по половине выборки (первые 500 элементов выборки, т.е. выборка состоит из 1000 наблюдений); б) по всей выборке. Оценку произведите по сетке (т.е. возьмите набор точек с некоторым шагом и верните ту, на которой достигается максимум функции правдоподобия). Известно, что параметр масштаба принадлежит интервалу $[−1000, 1000]$. Выберите шаг равным 0.01. Если получается долго или не хватает памяти, то уменьшите интервал поиска и поясните (в комментариях), почему берете именно такой интервал."
   ]
  },
  {
   "cell_type": "code",
   "execution_count": 1,
   "metadata": {
    "collapsed": true
   },
   "outputs": [],
   "source": [
    "import numpy as np\n",
    "import matplotlib.pyplot as plt\n",
    "from scipy.stats import cauchy\n",
    "\n",
    "%matplotlib inline"
   ]
  },
  {
   "cell_type": "code",
   "execution_count": 2,
   "metadata": {
    "collapsed": false
   },
   "outputs": [],
   "source": [
    "# Записываем выборку из файла в список sample\n",
    "f = open('Cauchy.csv.xls', 'r')\n",
    "text = f.read()\n",
    "lines = text.split('\\n')\n",
    "sample = np.array([float(lines[n]) for n in range(len(lines) - 1)])"
   ]
  },
  {
   "cell_type": "code",
   "execution_count": 3,
   "metadata": {
    "collapsed": false
   },
   "outputs": [],
   "source": [
    "# Логарифм функции правдоподобия (сумма логарифмов значений плотности на каждом значении из sample).\n",
    "def likehood(sample, loc_):\n",
    "    return np.sum(cauchy.logpdf(sample, loc=loc_, scale=1))"
   ]
  },
  {
   "cell_type": "markdown",
   "metadata": {},
   "source": [
    "### а) оценка по всей выборке"
   ]
  },
  {
   "cell_type": "code",
   "execution_count": 4,
   "metadata": {
    "collapsed": false,
    "scrolled": false
   },
   "outputs": [],
   "source": [
    "# Ищем максимум логарифмической функции правдоподобия по loc_, перебирая его от -1000 до 1000 с шагом 0.01.\n",
    "# Выводится значение параметра сдвига, на котором достигается максимум.\n",
    "left_bound = -1000\n",
    "right_bound = 1000\n",
    "step = 0.01\n",
    "estimation = left_bound + step * (np.argmax(np.array([likehood(sample, loc_) \n",
    "                                               for loc_ in np.arange(left_bound, right_bound, step)])))"
   ]
  },
  {
   "cell_type": "code",
   "execution_count": 5,
   "metadata": {
    "collapsed": false
   },
   "outputs": [
    {
     "name": "stdout",
     "output_type": "stream",
     "text": [
      "-208.04\n"
     ]
    }
   ],
   "source": [
    "print(estimation)"
   ]
  },
  {
   "cell_type": "markdown",
   "metadata": {},
   "source": [
    "### б) оценка по половине выборки"
   ]
  },
  {
   "cell_type": "code",
   "execution_count": 6,
   "metadata": {
    "collapsed": true
   },
   "outputs": [],
   "source": [
    "# Изменяем выборку.\n",
    "sample = np.array(sample[:500])"
   ]
  },
  {
   "cell_type": "code",
   "execution_count": 7,
   "metadata": {
    "collapsed": false
   },
   "outputs": [],
   "source": [
    "# И снова ищем значение параметра сдвига, на котором достигается максимум логарифмической функции правдоподобия.\n",
    "left_bound = -1000\n",
    "right_bound = 1000\n",
    "step = 0.01\n",
    "estimation = left_bound + step * (np.argmax(np.array([likehood(sample, loc_) \n",
    "                                               for loc_ in np.arange(left_bound, right_bound, step)])))"
   ]
  },
  {
   "cell_type": "code",
   "execution_count": 8,
   "metadata": {
    "collapsed": false
   },
   "outputs": [
    {
     "name": "stdout",
     "output_type": "stream",
     "text": [
      "-208.01\n"
     ]
    }
   ],
   "source": [
    "print(estimation)"
   ]
  },
  {
   "cell_type": "markdown",
   "metadata": {},
   "source": [
    "# Вывод\n",
    "\n",
    "Мы оценили параметр сдвига в распределении Коши методом правдоподобия по всей выборке и по ее половине. В первом случае оценка параметра $x_0 = -208.04$, во втором — $x_0 = 208.01$. Как мы видим, результаты хоть и различаются, но не намного. Это логично: размеры выборок различны, что дает различие в результате; при этом все значения выборки получены при одинаковых условиях и при конкретном расположении устройства, поэтому все точки пересечения лучей с поверхностью (как из целой выборки, так и из ее половины) подчиняются распределению Коши с одним и тем же параметром сдвига — это дает не очень сильное различие в оценках. "
   ]
  }
 ],
 "metadata": {
  "kernelspec": {
   "display_name": "Python [Root]",
   "language": "python",
   "name": "Python [Root]"
  },
  "language_info": {
   "codemirror_mode": {
    "name": "ipython",
    "version": 3
   },
   "file_extension": ".py",
   "mimetype": "text/x-python",
   "name": "python",
   "nbconvert_exporter": "python",
   "pygments_lexer": "ipython3",
   "version": "3.5.2"
  }
 },
 "nbformat": 4,
 "nbformat_minor": 0
}
