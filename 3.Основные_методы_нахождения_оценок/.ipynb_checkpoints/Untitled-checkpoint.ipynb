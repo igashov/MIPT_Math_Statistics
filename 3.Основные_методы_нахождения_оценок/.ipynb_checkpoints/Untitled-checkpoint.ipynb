{
 "cells": [
  {
   "cell_type": "code",
   "execution_count": 1,
   "metadata": {
    "collapsed": true
   },
   "outputs": [],
   "source": [
    "import numpy as np\n",
    "import matplotlib.pyplot as plt\n",
    "from scipy.stats import norm\n",
    "from scipy.stats import gamma\n",
    "from scipy.stats import uniform\n",
    "from scipy.stats import poisson\n",
    "from scipy.stats import binom\n",
    "from scipy.stats import geom\n",
    "from scipy.stats import beta\n",
    "from scipy.stats import pareto\n",
    "from scipy.stats import cauchy\n",
    "from scipy.stats import expon\n",
    "\n",
    "%matplotlib inline"
   ]
  },
  {
   "cell_type": "code",
   "execution_count": 5,
   "metadata": {
    "collapsed": false
   },
   "outputs": [],
   "source": [
    "N = 1000\n",
    "a = 1\n",
    "b = 2\n",
    "m = 100\n",
    "p = 0.2\n",
    "\n",
    "sample = {}\n",
    "sample['norm'] = norm.rvs(loc=a, scale=b, size=N)\n",
    "sample['gamma'] = gamma.rvs(a, scale=b, size=N)\n",
    "sample['uniform'] = uniform.rvs(loc=a, scale=(b - a), size=N)\n",
    "sample['poisson'] = poisson.rvs(b, size=N)\n",
    "sample['binom'] = binom.rvs(m, p, size=N)\n",
    "sample['geom'] = geom.rvs(p, size=N)\n",
    "sample['beta'] = beta.rvs(a, b, size=N)\n",
    "sample['pareto'] = pareto.rvs(b, size=N)\n",
    "sample['expon'] = expon.rvs(loc=a, scale=b, size=N)"
   ]
  },
  {
   "cell_type": "code",
   "execution_count": 21,
   "metadata": {
    "collapsed": false
   },
   "outputs": [],
   "source": [
    "estimation = left_bound + step * (np.argmax(np.array([likehood(sample, loc_) \n",
    "                                               for loc_ in np.arange(left_bound, right_bound, step)])))"
   ]
  },
  {
   "cell_type": "code",
   "execution_count": null,
   "metadata": {
    "collapsed": true
   },
   "outputs": [],
   "source": []
  },
  {
   "cell_type": "code",
   "execution_count": null,
   "metadata": {
    "collapsed": true
   },
   "outputs": [],
   "source": [
    "def likehood(sample, func):\n",
    "    return np.prod(cauchy.logpdf(sample, loc=loc_, scale=1))"
   ]
  },
  {
   "cell_type": "code",
   "execution_count": null,
   "metadata": {
    "collapsed": true
   },
   "outputs": [],
   "source": [
    "for key in sample:\n",
    "    "
   ]
  }
 ],
 "metadata": {
  "anaconda-cloud": {},
  "kernelspec": {
   "display_name": "Python [Root]",
   "language": "python",
   "name": "Python [Root]"
  },
  "language_info": {
   "codemirror_mode": {
    "name": "ipython",
    "version": 3
   },
   "file_extension": ".py",
   "mimetype": "text/x-python",
   "name": "python",
   "nbconvert_exporter": "python",
   "pygments_lexer": "ipython3",
   "version": "3.5.2"
  }
 },
 "nbformat": 4,
 "nbformat_minor": 0
}
