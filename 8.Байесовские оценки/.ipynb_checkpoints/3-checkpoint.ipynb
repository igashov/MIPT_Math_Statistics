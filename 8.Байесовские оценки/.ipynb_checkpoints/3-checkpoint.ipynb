{
 "cells": [
  {
   "cell_type": "markdown",
   "metadata": {},
   "source": [
    "#### Кафедра дискретной математики МФТИ\n",
    "\n",
    "#### Курс математической статистики\n",
    "\n",
    "Игашов Илья, 593 групппа\n",
    "\n",
    "#  Задание №8\n",
    "\n",
    "## №3.\n",
    "\n",
    "Рассматривается следующая параметрическая модель: $X_1,\\dots,X_N$ — выборка из распределения $N(\\theta, 1)$. Известно, что $\\theta$ близко к нулю: с вероятностью не менее $0.95$ выполнено неравенство $|\\theta| < 0.5$.\n",
    "\n",
    "Сгенерируйте выборку размера $100$ из распределения Коши с нулевым параметром сдвига и с параметром масштаба, равным $1$. При $N = 100$ используйте эту выборку в качестве $X_1,\\dots, X_N$ для описанной выше модели. Посчитайте байесовские оценки (для одного априорного распределения, учитывающего описанное выше свойство распределения параметра $\\theta$) и оценки максимального правдоподобия для всех $n\\leq100$. Постройте графики абсолютной величины отклонения этих оценок от истинного значения параметра $\\theta_0 = 0$ в зависимости от $n$. Сделайте выводы."
   ]
  },
  {
   "cell_type": "code",
   "execution_count": 1,
   "metadata": {
    "collapsed": true
   },
   "outputs": [],
   "source": [
    "import numpy as np\n",
    "import matplotlib.pyplot as plt\n",
    "from scipy.stats import norm\n",
    "from scipy.stats import cauchy\n",
    "\n",
    "%matplotlib inline"
   ]
  },
  {
   "cell_type": "code",
   "execution_count": 2,
   "metadata": {
    "collapsed": true
   },
   "outputs": [],
   "source": [
    "# Генерируем выборку из распределения Коши.\n",
    "N = 100\n",
    "sample = cauchy.rvs(size=N)"
   ]
  },
  {
   "cell_type": "markdown",
   "metadata": {},
   "source": [
    "### Параметры априорного распределения $N(\\mu, \\sigma^2)$ \n",
    "Очевидно, $\\mu = 0$. Найдем $\\sigma^2$ (сделаем для $P(|\\theta| < 0.5) = 0.95$).\n",
    "\n",
    "Неравенство Чебышева:\n",
    "\n",
    "$P(|\\theta|\\geq0.5)\\leq\\frac{D\\theta}{0.5^2}=\\frac{\\sigma^2}{0.25}$\n",
    "\n",
    "$P(|\\theta|<0.5) = 1 - P(|\\theta|\\geq0.5)\\geq1-\\frac{\\sigma^2}{0.25}$\n",
    "\n",
    "$\\frac{\\sigma^2}{0.25}\\geq1-P(|\\theta|<0.5) = 0.05$\n",
    "\n",
    "Возьмем $\\sigma^2 = 0.0125$.\n",
    "\n",
    "Байесовская оценка: $\\theta^* = \\left(\\frac{\\mu}{\\sigma^2} + \\sum_{i=1}^{n}X_i\\right) / \\left(\\frac{1}{\\sigma^2} + n\\right) = \\frac{\\sum_{i=1}^{n}X_i}{\\frac{1}{\\sigma^2} + n}$."
   ]
  },
  {
   "cell_type": "code",
   "execution_count": 3,
   "metadata": {
    "collapsed": false
   },
   "outputs": [],
   "source": [
    "# Оценка максимального правдоподобия.\n",
    "likehood = np.array([np.mean(sample[:n]) for n in range(1, N + 1, 1)])\n",
    "\n",
    "# Байесовская оценка с априорным распределением N(0,0.0125).\n",
    "sigma = 0.0125\n",
    "bayes = np.array([\n",
    "                (np.mean(sample[:n]) * n)/ (n + (1 / sigma))\n",
    "                for n in range(1, N + 1, 1)\n",
    "            ]) "
   ]
  },
  {
   "cell_type": "code",
   "execution_count": 4,
   "metadata": {
    "collapsed": false
   },
   "outputs": [
    {
     "data": {
      "image/png": "[encoded data removed]",
      "text/plain": [
       "<matplotlib.figure.Figure at 0x1107a9470>"
      ]
     },
     "metadata": {},
     "output_type": "display_data"
    }
   ],
   "source": [
    "theta_0 = 0\n",
    "\n",
    "# Графики абсолютных отклонений значений оценок от истинного значения.\n",
    "grid = np.linspace(1, N, N)\n",
    "plt.figure(figsize=(10, 5))\n",
    "plt.plot(grid, abs(likehood - theta_0), label='Maximal likehood')\n",
    "plt.plot(grid, abs(bayes - theta_0), label=(r'prior: $N(0, 0.0125)$'))\n",
    "\n",
    "plt.legend()\n",
    "plt.show()"
   ]
  },
  {
   "cell_type": "markdown",
   "metadata": {
    "collapsed": true
   },
   "source": [
    "# Вывод\n",
    "\n",
    "Выбор подходящих параметров для сопряженного априорного распределения позволил получить хорошую байесовскую оценку параметра $\\theta$. График показывает, что она лучше оценки по методу максимального правдоподобия в смысле абсолютного значения отклонения от истинного значения. \n",
    "\n",
    "Параметры сопряженного распределения $N(\\mu, \\sigma_0^2)$ можно интерпретировать так: если значение $\\sigma_0^2$ достаточно велико относительно $\\sigma^2$ (последнее равно 1 в нашем случае), то это значит, что мы меньше опираемся на априорное распределение и больше — на выборку и, следовательно, математическое ожидание апостериорного распределения будет ближе к математическому ожиданию выборки. В противном случае (а у нас так и получилось) — математическое ожидание будет ближе к $\\mu$ (мы в большей степени учитываем априорное распределение).\n",
    "(https://people.eecs.berkeley.edu/~jordan/courses/260-spring10/other-readings/chapter9.pdf стр. 8-9)"
   ]
  },
  {
   "cell_type": "code",
   "execution_count": null,
   "metadata": {
    "collapsed": true
   },
   "outputs": [],
   "source": []
  }
 ],
 "metadata": {
  "anaconda-cloud": {},
  "kernelspec": {
   "display_name": "Python [Root]",
   "language": "python",
   "name": "Python [Root]"
  },
  "language_info": {
   "codemirror_mode": {
    "name": "ipython",
    "version": 3
   },
   "file_extension": ".py",
   "mimetype": "text/x-python",
   "name": "python",
   "nbconvert_exporter": "python",
   "pygments_lexer": "ipython3",
   "version": "3.5.2"
  }
 },
 "nbformat": 4,
 "nbformat_minor": 0
}
