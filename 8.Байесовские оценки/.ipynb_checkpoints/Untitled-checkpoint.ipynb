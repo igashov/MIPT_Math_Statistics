{
 "cells": [
  {
   "cell_type": "code",
   "execution_count": 6,
   "metadata": {
    "collapsed": true
   },
   "outputs": [],
   "source": [
    "import numpy as np\n",
    "from scipy.stats import expon\n",
    "from scipy.stats import gamma\n",
    "\n",
    "%matplotlib inline"
   ]
  },
  {
   "cell_type": "code",
   "execution_count": 7,
   "metadata": {
    "collapsed": true
   },
   "outputs": [],
   "source": [
    "# Открываем и читаем файл.\n",
    "f = open('6.csv.xls', 'r')\n",
    "text = f.read()\n",
    "lines = text.split('\\n')"
   ]
  },
  {
   "cell_type": "code",
   "execution_count": 8,
   "metadata": {
    "collapsed": false
   },
   "outputs": [
    {
     "name": "stdout",
     "output_type": "stream",
     "text": [
      "['lambda = 66', 't_0 = 200', 't = 70000']\n"
     ]
    }
   ],
   "source": [
    "print(lines[:3])"
   ]
  },
  {
   "cell_type": "code",
   "execution_count": 9,
   "metadata": {
    "collapsed": true
   },
   "outputs": [],
   "source": [
    "# Данные из файла:\n",
    "t_0 = 200\n",
    "t = 70000\n",
    "sample = np.hstack(([0], np.array([float(line) for line in lines[3:len(lines) - 1]])))"
   ]
  },
  {
   "cell_type": "code",
   "execution_count": 18,
   "metadata": {
    "collapsed": false
   },
   "outputs": [
    {
     "ename": "TypeError",
     "evalue": "ufunc 'true_divide' not supported for the input types, and the inputs could not be safely coerced to any supported types according to the casting rule ''safe''",
     "output_type": "error",
     "traceback": [
      "\u001b[0;31m---------------------------------------------------------------------------\u001b[0m",
      "\u001b[0;31mTypeError\u001b[0m                                 Traceback (most recent call last)",
      "\u001b[0;32m<ipython-input-18-24b6897d3514>\u001b[0m in \u001b[0;36m<module>\u001b[0;34m()\u001b[0m\n\u001b[1;32m     18\u001b[0m \u001b[0;34m\u001b[0m\u001b[0m\n\u001b[1;32m     19\u001b[0m     \u001b[0;31m# Вывод.\u001b[0m\u001b[0;34m\u001b[0m\u001b[0;34m\u001b[0m\u001b[0m\n\u001b[0;32m---> 20\u001b[0;31m     \u001b[0mprint\u001b[0m\u001b[0;34m(\u001b[0m\u001b[0;34m'time: %7s'\u001b[0m \u001b[0;34m%\u001b[0m \u001b[0ms\u001b[0m\u001b[0;34m,\u001b[0m \u001b[0;34m\"  broken: %4s\"\u001b[0m \u001b[0;34m%\u001b[0m \u001b[0mN_s\u001b[0m\u001b[0;34m,\u001b[0m \u001b[0;34m\"  estimation: %.2f\"\u001b[0m \u001b[0;34m%\u001b[0m  \u001b[0;34m(\u001b[0m\u001b[0mN_s\u001b[0m \u001b[0;34m+\u001b[0m \u001b[0mlam\u001b[0m \u001b[0;34m*\u001b[0m \u001b[0;34m(\u001b[0m\u001b[0mt\u001b[0m \u001b[0;34m-\u001b[0m \u001b[0ms\u001b[0m\u001b[0;34m)\u001b[0m\u001b[0;34m)\u001b[0m\u001b[0;34m,\u001b[0m \u001b[0;34m'lam: %.2f'\u001b[0m \u001b[0;34m%\u001b[0m \u001b[0;36m1\u001b[0m \u001b[0;34m/\u001b[0m \u001b[0mlam\u001b[0m\u001b[0;34m)\u001b[0m\u001b[0;34m\u001b[0m\u001b[0m\n\u001b[0m",
      "\u001b[0;31mTypeError\u001b[0m: ufunc 'true_divide' not supported for the input types, and the inputs could not be safely coerced to any supported types according to the casting rule ''safe''"
     ]
    }
   ],
   "source": [
    "# Выведем предсказания для всех s от 0 до t = 70000 с шагом t_0 = 200\n",
    "# N_s - количество компьютеров, вышедших из строя к моменту времени s.\n",
    "N_s = 0 \n",
    "for k in np.arange(0, (70000 / 200) + 1):\n",
    "    s = k * t_0\n",
    "    \n",
    "    # Подсчет N_s.\n",
    "    flag = False \n",
    "    while N_s < len(sample) and s > sample[N_s]:\n",
    "        N_s += 1\n",
    "        flag = True\n",
    "    if flag is True:\n",
    "        N_s -= 1\n",
    "        \n",
    "    # Оценим параметр lambda\n",
    "    sam = sample[:N_s + 1]\n",
    "    lam = np.mean(sam)\n",
    "        \n",
    "    # Вывод.\n",
    "    print('time: %7s' % s, \"  broken: %4s\" % N_s, \"  estimation: %.2f\" %  (N_s + lam * (t - s)), 'lam: %.2f' % lam)"
   ]
  },
  {
   "cell_type": "code",
   "execution_count": null,
   "metadata": {
    "collapsed": true
   },
   "outputs": [],
   "source": []
  }
 ],
 "metadata": {
  "kernelspec": {
   "display_name": "Python [Root]",
   "language": "python",
   "name": "Python [Root]"
  },
  "language_info": {
   "codemirror_mode": {
    "name": "ipython",
    "version": 3
   },
   "file_extension": ".py",
   "mimetype": "text/x-python",
   "name": "python",
   "nbconvert_exporter": "python",
   "pygments_lexer": "ipython3",
   "version": "3.5.2"
  }
 },
 "nbformat": 4,
 "nbformat_minor": 0
}
