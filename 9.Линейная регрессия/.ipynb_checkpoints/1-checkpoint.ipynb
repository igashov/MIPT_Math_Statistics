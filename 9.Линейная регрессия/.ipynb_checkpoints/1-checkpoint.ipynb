{
 "cells": [
  {
   "cell_type": "markdown",
   "metadata": {},
   "source": [
    "#### Кафедра дискретной математики МФТИ\n",
    "\n",
    "#### Курс математической статистики\n",
    "\n",
    "Игашов Илья, 593 групппа\n",
    "\n",
    "#  Задание №9\n",
    "\n",
    "## №1.\n",
    "\n",
    "Загрузите данные из набора Forest Fires о лесных пожарах в Португалии. Задача состоит в том, чтобы с помощью линейной регрессии научиться предсказывать координату area (площадь пожара) в виде линейной комбинации других данных. \n",
    "\n",
    "Преобразование данных. Чтобы работать с числовыми координатами, нечисловые координаты (month, day) нужно перевести в числовые. Для простоты можно заменить координату month на индикатор летнего сезона, а координату day не использовать вообще. По желанию можете сделать преобразование другим способом. Также желательно добавить координату, тождественно равную единице. Она будет отвечать свободному члену.\n",
    "\n",
    "Разбейте выборку на две части в соотношении $7:3$. Перед этим желательно ее перемешать (random.shuffle). По первой части постройте регрессионную модель. Примените модель ко второй части выборки и посчитайте по ней среднеквадратичную ошибку.\n",
    "\n",
    "Сделайте для area преобразование $f(x) = \\ln(c+x)$ и постройте для нее регрессионную модель. Посчитайте среднеквадратичную ошибку для преобразованных значений по данному правилу и для исходных, применив в последнем случае к оценкам обратное к $f$ преобразование. При каком c предсказания получаются лучше всего? \n",
    "\n",
    "При выбраном c сделайте разбиение выборки в соотношении $7:3$ разными способами (перемешивая каждый раз). Сильно ли зависит качество от способа разбиения? Сделайте выводы."
   ]
  },
  {
   "cell_type": "code",
   "execution_count": 12,
   "metadata": {
    "collapsed": false
   },
   "outputs": [],
   "source": [
    "import numpy as np\n",
    "from numpy import linalg\n",
    "from random import shuffle\n",
    "from math import log"
   ]
  },
  {
   "cell_type": "code",
   "execution_count": 2,
   "metadata": {
    "collapsed": true
   },
   "outputs": [],
   "source": [
    "# Открываем и читаем файл.\n",
    "f = open('forestfires.csv', 'r')\n",
    "text = f.read()\n",
    "lines = text.split('\\n')"
   ]
  },
  {
   "cell_type": "code",
   "execution_count": 3,
   "metadata": {
    "collapsed": false
   },
   "outputs": [],
   "source": [
    "attributes = np.array(lines[0].split(',')) # Названия атрибутов\n",
    "observations = np.array([line.split(',') for line in lines[1:-1]]) # Векторы измерений"
   ]
  },
  {
   "cell_type": "code",
   "execution_count": 4,
   "metadata": {
    "collapsed": false
   },
   "outputs": [
    {
     "name": "stdout",
     "output_type": "stream",
     "text": [
      "[['7' '5' 'mar' ..., '6.7' '0' '0']\n",
      " ['7' '4' 'oct' ..., '0.9' '0' '0']\n",
      " ['7' '4' 'oct' ..., '1.3' '0' '0']\n",
      " ..., \n",
      " ['7' '4' 'aug' ..., '6.7' '0' '11.16']\n",
      " ['1' '4' 'aug' ..., '4' '0' '0']\n",
      " ['6' '3' 'nov' ..., '4.5' '0' '0']]\n"
     ]
    }
   ],
   "source": [
    "print(observations)"
   ]
  },
  {
   "cell_type": "code",
   "execution_count": 5,
   "metadata": {
    "collapsed": false
   },
   "outputs": [],
   "source": [
    "# Заменим координату \"month\" на индикатор летнего сезона, координату \"day\"  на единицу - свободный член.\n",
    "for obs in observations:\n",
    "    obs[2] = 1 if (obs[2] in ['jun', 'jul', 'aug']) else 0\n",
    "    obs[3] = 1\n",
    "    \n",
    "# Изменим тип данных.\n",
    "observations = (observations.astype(float)).astype(int)"
   ]
  },
  {
   "cell_type": "code",
   "execution_count": 6,
   "metadata": {
    "collapsed": false
   },
   "outputs": [
    {
     "name": "stdout",
     "output_type": "stream",
     "text": [
      "[[ 7  5  0 ...,  6  0  0]\n",
      " [ 7  4  0 ...,  0  0  0]\n",
      " [ 7  4  0 ...,  1  0  0]\n",
      " ..., \n",
      " [ 7  4  1 ...,  6  0 11]\n",
      " [ 1  4  1 ...,  4  0  0]\n",
      " [ 6  3  0 ...,  4  0  0]]\n"
     ]
    }
   ],
   "source": [
    "print(observations)"
   ]
  },
  {
   "cell_type": "code",
   "execution_count": 7,
   "metadata": {
    "collapsed": false
   },
   "outputs": [],
   "source": [
    "# Перемешали выборку и разделили в отношении ~ 7:3 на обучающую и тестовую.\n",
    "shuffle(observations)\n",
    "educ_data = observations[:7 * int(len(observations) / 10)]\n",
    "test_data = observations[7 * int(len(observations) / 10):]"
   ]
  },
  {
   "cell_type": "markdown",
   "metadata": {},
   "source": [
    "### Регрессионная модель.\n",
    "Имееем $N$ векторов $X_1,\\dots,X_N$.\n",
    "\n",
    "Рассмотрим вектор $X_i = (X_i^{1}, X_i^{2},\\dots,X_i^{K}), \\ \\ \\text{где} \\ \\ K = 13$ — данные, дающие информацию о конкретном пожаре. Будем считать, что $\\forall i\\in\\{1,\\dots,N\\}$ мы измерили только координату $X_i^{K}$ (это и есть площадь пожара area), а остальные данные $X_i^{1}, X_i^{2},\\dots,X_i^{K-1}$ нам известны. Тогда area можно представить как линейную комбинацию остальных данных: \n",
    "$$\\forall i\\in\\{1,\\dots,N\\} \\ \\ X_i^{K} = \\theta_1X_i^{1} + \\theta_2X_i^{2}+\\dots+\\theta_{K-1}X_i^{K-1}.$$\n",
    "Оценим параметры $\\theta = (\\theta_1,\\dots,\\theta_{K-1})^T$.\n",
    "$$\\theta=(Z^TZ)^{-1}Z^T\\hat X, \\ \\ \\text{где} \\ \\ Z = \\begin{pmatrix}X_1^1 & X_1^2 & \\dots & X_1^{K-1}\\\\ X_2^1 & X_2^2 & \\dots & X_2^{K-1}\\\\ \\dots & \\dots & \\dots & \\dots \\\\ X_N^1 & X_N^2 & \\dots & X_N^{K-1}\\end{pmatrix}, \\ \\ \\hat{X} = (X_1^{K},\\dots,X_N^{K})^T.$$\n",
    "\n",
    "Оценка для area на тестовых данных (известны первые $K - 1 = 12$ координат каждого вектора) равна:\n",
    "$$ \\hat{A} = Z\\theta. $$"
   ]
  },
  {
   "cell_type": "code",
   "execution_count": 8,
   "metadata": {
    "collapsed": false
   },
   "outputs": [],
   "source": [
    "# Линейная регрессионная модель на обучающей выборке: \n",
    "# theta - оценка коэффициентов в линейной комбинации. \n",
    "Z = educ_data[:, :-1]\n",
    "X = educ_data[:, -1]\n",
    "theta = linalg.inv(Z.T @ Z) @ Z.T @ X "
   ]
  },
  {
   "cell_type": "code",
   "execution_count": 11,
   "metadata": {
    "collapsed": false
   },
   "outputs": [
    {
     "name": "stdout",
     "output_type": "stream",
     "text": [
      "425.949525747\n"
     ]
    }
   ],
   "source": [
    "# Считаем площадь пожаров на тестовых данных.\n",
    "Z = test_data[:, :-1] \n",
    "X = test_data[:, -1]\n",
    "A = Z @ theta # Оценка для area\n",
    "\n",
    "# Среднеквадратичная ошибка:\n",
    "err = np.sum((X - result) ** 2) / len(X)\n",
    "print(err)"
   ]
  },
  {
   "cell_type": "markdown",
   "metadata": {},
   "source": [
    "# Вывод\n",
    "\n",
    "Мы построили линейную регрессионную модель для предсказания площади пожара по известным данным. Среднеквадратичная ошибка на тестовой выборке оказалась равна $425.95$."
   ]
  }
 ],
 "metadata": {
  "anaconda-cloud": {},
  "kernelspec": {
   "display_name": "Python [Root]",
   "language": "python",
   "name": "Python [Root]"
  },
  "language_info": {
   "codemirror_mode": {
    "name": "ipython",
    "version": 3
   },
   "file_extension": ".py",
   "mimetype": "text/x-python",
   "name": "python",
   "nbconvert_exporter": "python",
   "pygments_lexer": "ipython3",
   "version": "3.5.2"
  }
 },
 "nbformat": 4,
 "nbformat_minor": 0
}
