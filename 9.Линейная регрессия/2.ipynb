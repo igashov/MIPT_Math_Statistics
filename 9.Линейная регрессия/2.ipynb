{
 "cells": [
  {
   "cell_type": "markdown",
   "metadata": {},
   "source": [
    "#### Кафедра дискретной математики МФТИ\n",
    "\n",
    "#### Курс математической статистики\n",
    "\n",
    "Игашов Илья, 593 групппа\n",
    "\n",
    "#  Задание №9\n",
    "\n",
    "## №2.\n",
    "\n",
    "Пусть $X_i = \\beta_1 +i\\beta_2 +\\epsilon_0 +\\dots+\\epsilon_i, \\ \\ i = 0, 1, \\dots, n$ — расстояния, которое проехал трамвай за $i$ секунд по показанию датчика. Здесь $\\beta_1$ — начальное расстояние, $\\beta_2$ — скорость трамвая, $\\epsilon_0$ — ошибка начального показания датчика. Трамвай едет с постоянной скоростью, и через каждую секунду датчик фиксирует расстояние, которое проехал трамвай. Отсчет времени идет от предыдущего замера, причем отсчет происходит с ошибкой. Для $i = 1, \\dots, n$ величина $\\epsilon_i$ есть ошибка приращения расстояния, то есть то есть $\\epsilon_i = \\epsilon^t_i\\beta_2$, где $\\epsilon^t_i$ — ошибка отсчета времени. Все ошибки $\\epsilon_i$ независимы и распределены по закону $N(0, \\sigma^2)$. Сведите задачу к линейной модели и найдите оценки наименьших квадратов для начального расстояния $\\beta_1$ и скорости $\\beta_2$, а также несмещенную оценку для $\\sigma^2$, из которой выразите оценку дисперсии отсчета времени. Данные взять из файла на диске. Сделайте выводы."
   ]
  },
  {
   "cell_type": "code",
   "execution_count": 1,
   "metadata": {
    "collapsed": true
   },
   "outputs": [],
   "source": [
    "import numpy as np\n",
    "from numpy import linalg"
   ]
  },
  {
   "cell_type": "code",
   "execution_count": 2,
   "metadata": {
    "collapsed": false
   },
   "outputs": [],
   "source": [
    "# Открываем и читаем файл.\n",
    "f = open('Regression.csv', 'r')\n",
    "text = f.read()\n",
    "data = np.array(text.split('\\n')[:-1]).astype(float)\n",
    "N = len(data)"
   ]
  },
  {
   "cell_type": "markdown",
   "metadata": {},
   "source": [
    "Вместо измерений $X = (X_0,\\dots,X_n)^T$ рассмотрим измерения $\\hat{X} = (X_0, X_1-X_0, X_2-X_1,\\dots,X_n-X_{n-1})^T$.\n",
    "\n",
    "Тогда $\\hat{X} = (\\beta_1 + \\epsilon_0, \\beta_2 + \\epsilon_1,\\dots, \\beta_2+\\epsilon_n)^T = l + \\epsilon,$\n",
    "где $\\epsilon = (\\epsilon_0,\\dots,\\epsilon_n)^T, \\ \\ l = Z\\theta, \\ \\ \\theta = (\\beta_1,\\beta_2)^T, \\ \\ Z = \\begin{pmatrix}1 & 0\\\\ 0 & 1\\\\ 0 & 1\\\\ \\dots & \\dots \\\\ 0 & 1\\end{pmatrix}$.\n",
    "\n",
    "Посчитаем оценку по методу наименьших квадратов для $\\theta = (\\beta_1,\\beta_2)^T$:\n",
    "\n",
    "$$\\theta^*=(Z^TZ)^{-1}Z^T\\hat{X}.$$\n",
    "\n",
    "Посчитаем несмещенную оценку для $\\sigma^2$:\n",
    "$$\\newcommand{\\norm}[1]{\\left\\lVert#1\\right\\rVert}\n",
    "{\\sigma^2}^* = \\frac{1}{m - k}\\norm{\\hat{X} - Z\\theta^*}^2, \\ \\ \\text{где} \\ \\ m = n + 1 = 1000, \\ \\ k = 2.$$"
   ]
  },
  {
   "cell_type": "code",
   "execution_count": 3,
   "metadata": {
    "collapsed": false
   },
   "outputs": [
    {
     "name": "stdout",
     "output_type": "stream",
     "text": [
      "Initial distance: 63.57\n",
      "Velocity: 9.97\n",
      "Error variance: 4.22\n"
     ]
    }
   ],
   "source": [
    "# Данные в новом виде:\n",
    "X = np.array([\n",
    "        data[i] - data[i-1] if i > 0 else data[i]\n",
    "        for i in range(N)\n",
    "    ])\n",
    "\n",
    "# Считаем оценки:\n",
    "Z = np.array([[1, 0] if i == 0 else [0, 1] for i in range(N)])\n",
    "theta = linalg.inv(Z.T @ Z) @ Z.T @ X\n",
    "sigma = (linalg.norm(X - Z @ theta) ** 2) / (N - 2)\n",
    "\n",
    "# Вывод:\n",
    "print('Initial distance: %.2f' % theta[0])\n",
    "print('Velocity: %.2f' % theta[1])\n",
    "print('Error variance: %.2f' % sigma)"
   ]
  },
  {
   "cell_type": "markdown",
   "metadata": {},
   "source": [
    "Поскольку для $i = 1,\\dots,n$ величина $\\epsilon_i$ есть ошибка приращения расстояния, то есть $\\epsilon_i = \\epsilon^t_i\\beta_2$, где $\\epsilon^t_i$ — ошибка отсчета времени, и $\\epsilon_i\\sim N(0,\\sigma^2)$, то $$\\epsilon^t_i\\sim N(0, \\frac{\\sigma^2}{\\beta_2^2}),$$ и оценка дисперсии отсчета времени выражается как $${\\sigma_t^2}^* = \\frac{{\\sigma^2}^*}{{\\beta_2^*}^2}.$$\n"
   ]
  },
  {
   "cell_type": "code",
   "execution_count": 4,
   "metadata": {
    "collapsed": false
   },
   "outputs": [
    {
     "name": "stdout",
     "output_type": "stream",
     "text": [
      "Variance of time marking: 0.04\n"
     ]
    }
   ],
   "source": [
    "# Оценка дисперсии отсчета времени:\n",
    "sigma_t = sigma / (theta[1] ** 2)\n",
    "print('Variance of time marking: %.2f' % sigma_t)"
   ]
  },
  {
   "cell_type": "markdown",
   "metadata": {},
   "source": [
    "# Вывод\n",
    "\n",
    "Для решения поставленной задачи мы свели ее к регрессионной модели. Мы нашли оценки начального расстояния $\\beta_1$ и скорости трамвая $\\beta_2$ по методу наименьших квадратов: \n",
    "$$\\beta_1^* = 63.57, \\\\ \\beta_2^* = 9.97.$$ \n",
    "\n",
    "Кроме того, мы оценили (несмещенные оценки) дисперсию ошибки приращения расстояния: \n",
    "\n",
    "$${\\sigma^2}^* = 4.22 $$\n",
    "и дисперсию отсчета времени: \n",
    "$${\\sigma_t^2}^* = 0.04$$\n",
    "\n",
    "в предположении, что все ошибки $\\epsilon_i$ независимы и распределены по закону $N(0, \\sigma^2)$."
   ]
  },
  {
   "cell_type": "code",
   "execution_count": null,
   "metadata": {
    "collapsed": true
   },
   "outputs": [],
   "source": []
  }
 ],
 "metadata": {
  "kernelspec": {
   "display_name": "Python [Root]",
   "language": "python",
   "name": "Python [Root]"
  },
  "language_info": {
   "codemirror_mode": {
    "name": "ipython",
    "version": 3
   },
   "file_extension": ".py",
   "mimetype": "text/x-python",
   "name": "python",
   "nbconvert_exporter": "python",
   "pygments_lexer": "ipython3",
   "version": "3.5.2"
  }
 },
 "nbformat": 4,
 "nbformat_minor": 0
}
